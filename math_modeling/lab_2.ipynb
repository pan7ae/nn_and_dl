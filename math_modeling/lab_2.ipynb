{
  "nbformat": 4,
  "nbformat_minor": 0,
  "metadata": {
    "colab": {
      "provenance": []
    },
    "kernelspec": {
      "name": "python3",
      "display_name": "Python 3"
    },
    "language_info": {
      "name": "python"
    }
  },
  "cells": [
    {
      "cell_type": "markdown",
      "source": [
        "Пан Анатолий Эдуардович, группа 932209"
      ],
      "metadata": {
        "id": "eIW4h7vNqT7j"
      }
    },
    {
      "cell_type": "markdown",
      "source": [
        "# Задание 2. Основные дискретные структуры.\n",
        "Разработать программу для решения одной из задач. Решения в виде полного перебора\n",
        "вариантов оцениваются ниже.\n",
        "\n",
        "## Проверка эквивалентности формул.\n",
        "Даны две логические формулы в виде строк, проверить, эквивалентны ли они.\n",
        "Программа должна работать с числом переменных не менее 5."
      ],
      "metadata": {
        "id": "SLXPV1XhqP_t"
      }
    },
    {
      "cell_type": "code",
      "source": [
        "from sympy.logic.boolalg import to_cnf, And, Or, Implies, Not, Nor, Xor, Nand\n",
        "from sympy.abc import A, B, C, D, E"
      ],
      "metadata": {
        "id": "-4qyzxO0bqwq"
      },
      "execution_count": null,
      "outputs": []
    },
    {
      "cell_type": "code",
      "source": [
        "def are_formulas_equivalent(formula1: str, formula2: str):\n",
        "    # Преобразование строковых выражений в объекты SymPy\n",
        "    expr1 = to_cnf(formula1, True)\n",
        "    expr2 = to_cnf(formula2, True)\n",
        "\n",
        "    # Проверка эквивалентности формул\n",
        "    result = expr1.equals(expr2)\n",
        "    if result:\n",
        "        print(\"Формулы эквивалентны.\")\n",
        "    else:\n",
        "        print(\"Формулы не эквивалентны.\")\n",
        "    # return expr1.equals(expr2)"
      ],
      "metadata": {
        "id": "30aUnTjYfVOW"
      },
      "execution_count": null,
      "outputs": []
    },
    {
      "cell_type": "markdown",
      "source": [
        "###Сначала проверю простые соотношения для проверки работы программы"
      ],
      "metadata": {
        "id": "u2PwkjfGhJ7L"
      }
    },
    {
      "cell_type": "code",
      "source": [
        "# Пример использования (Импликация)\n",
        "formula1 = \"Implies(A, B)\"\n",
        "formula2 = \"Or(Not(A), B)\"\n",
        "\n",
        "are_formulas_equivalent(formula1, formula2)"
      ],
      "metadata": {
        "colab": {
          "base_uri": "https://localhost:8080/"
        },
        "id": "xlsKlqXBfWqI",
        "outputId": "44395115-89ec-4eee-d0c2-b0e39d1f2312"
      },
      "execution_count": null,
      "outputs": [
        {
          "output_type": "stream",
          "name": "stdout",
          "text": [
            "Формулы эквивалентны.\n"
          ]
        }
      ]
    },
    {
      "cell_type": "code",
      "source": [
        "# Стрелка Пирса (NOR)\n",
        "formula3 = \"Nor(A, B)\"\n",
        "formula4 = \"Not(Or(A, B))\"\n",
        "\n",
        "are_formulas_equivalent(formula3, formula4)"
      ],
      "metadata": {
        "colab": {
          "base_uri": "https://localhost:8080/"
        },
        "id": "Q6aT8eegfYze",
        "outputId": "99cb523e-fc5a-48dd-cad2-0b4af5e8b9a4"
      },
      "execution_count": null,
      "outputs": [
        {
          "output_type": "stream",
          "name": "stdout",
          "text": [
            "Формулы эквивалентны.\n"
          ]
        }
      ]
    },
    {
      "cell_type": "code",
      "source": [
        "# Xor (Сумма по модулю 2)\n",
        "formula5 = \"Xor(A, B)\"\n",
        "formula6 = \"Or(And(Not(A), B), And(A, Not(B)))\"\n",
        "\n",
        "are_formulas_equivalent(formula5, formula6)"
      ],
      "metadata": {
        "colab": {
          "base_uri": "https://localhost:8080/"
        },
        "id": "83CRjsMrkQ07",
        "outputId": "30675bb5-0931-4cea-cb25-f640de9ad4c0"
      },
      "execution_count": null,
      "outputs": [
        {
          "output_type": "stream",
          "name": "stdout",
          "text": [
            "Формулы эквивалентны.\n"
          ]
        }
      ]
    },
    {
      "cell_type": "code",
      "source": [
        "# Штрих Шеффера (NAND)\n",
        "formula7 = \"Nand(A, B)\"\n",
        "formula8 = \"Xor(True, And(A, B))\"\n",
        "are_formulas_equivalent(formula7, formula8)"
      ],
      "metadata": {
        "colab": {
          "base_uri": "https://localhost:8080/"
        },
        "id": "_SOfTB-Tl3wm",
        "outputId": "e216af25-0435-4afe-8129-496da89d61f9"
      },
      "execution_count": null,
      "outputs": [
        {
          "output_type": "stream",
          "name": "stdout",
          "text": [
            "Формулы эквивалентны.\n"
          ]
        }
      ]
    },
    {
      "cell_type": "markdown",
      "source": [
        "###Перейдем к более сложным формулам"
      ],
      "metadata": {
        "id": "6kGoE3wah58k"
      }
    },
    {
      "cell_type": "code",
      "source": [
        "formula1 = \"Implies(And(A, B, C), Or(Not(D), E, F))\"\n",
        "formula2 = \"Or(Implies(A, Or(Not(D), E, F)), Implies(B, Or(Not(D), E, F)), Implies(C, Or(Not(D), E, F)))\"\n",
        "\n",
        "are_formulas_equivalent(eval(formula1), eval(formula2))"
      ],
      "metadata": {
        "colab": {
          "base_uri": "https://localhost:8080/"
        },
        "id": "UGVwd_uufv1Y",
        "outputId": "f180d8da-f320-45ce-a9b4-e7c3f9e591d3"
      },
      "execution_count": null,
      "outputs": [
        {
          "output_type": "stream",
          "name": "stdout",
          "text": [
            "Формулы эквивалентны.\n"
          ]
        }
      ]
    },
    {
      "cell_type": "code",
      "source": [
        "formula1_nand = \"Nand(A, B, C, D, E, F)\"\n",
        "formula2_nand = \"Not(And(A, B, C, D, E, F))\"\n",
        "\n",
        "are_formulas_equivalent(eval(formula1_nand), eval(formula2_nand))"
      ],
      "metadata": {
        "colab": {
          "base_uri": "https://localhost:8080/"
        },
        "id": "LFy12P_hh_zD",
        "outputId": "57c56a35-3ae3-4d24-cb55-8e50bba5e63b"
      },
      "execution_count": null,
      "outputs": [
        {
          "output_type": "stream",
          "name": "stdout",
          "text": [
            "Формулы эквивалентны.\n"
          ]
        }
      ]
    },
    {
      "cell_type": "code",
      "source": [
        "formula1_nor = \"Nor(A, B, C, D, E)\"\n",
        "formula2_nor = \"Not(Or(A, B, C, D, E))\"\n",
        "\n",
        "are_formulas_equivalent(eval(formula1_nor), eval(formula2_nor))"
      ],
      "metadata": {
        "colab": {
          "base_uri": "https://localhost:8080/"
        },
        "id": "rLl2gWzcit6W",
        "outputId": "1a3e8d3d-c124-443c-caf7-3cd758e7e36e"
      },
      "execution_count": null,
      "outputs": [
        {
          "output_type": "stream",
          "name": "stdout",
          "text": [
            "Формулы эквивалентны.\n"
          ]
        }
      ]
    },
    {
      "cell_type": "code",
      "source": [
        "formula_9 = \"Or(And(Or(And(Not(A), Not(B)), And(A, B)), Or(And(Not(C), D), And(C, Not(D)))), And(And(Not(A), B), Or(Not(C), D)), And(And(A, Not(B)), Or(C, Not(D))))\"\n",
        "formula_10 = \"Or(And(Or(And(Not(A), Not(B)), And(A, B)), Or(Not(C), D)), And(And(Not(A), B), Or(C, Not(D))), And(And(A, Not(B)), Or(And(Not(C), D), And(C, Not(D)))))\"\n",
        "are_formulas_equivalent(formula_9, formula_10)"
      ],
      "metadata": {
        "colab": {
          "base_uri": "https://localhost:8080/"
        },
        "id": "_GZfLf5jmRUi",
        "outputId": "fb2c7566-b24e-4206-f14a-69d2d6543b49"
      },
      "execution_count": null,
      "outputs": [
        {
          "output_type": "stream",
          "name": "stdout",
          "text": [
            "Формулы не эквивалентны.\n"
          ]
        }
      ]
    },
    {
      "cell_type": "markdown",
      "source": [
        "P.S. лучше подавать формулы не как строки"
      ],
      "metadata": {
        "id": "9bXrxJmFxfn4"
      }
    },
    {
      "cell_type": "code",
      "source": [],
      "metadata": {
        "id": "-TwqIofAxj91"
      },
      "execution_count": null,
      "outputs": []
    }
  ]
}