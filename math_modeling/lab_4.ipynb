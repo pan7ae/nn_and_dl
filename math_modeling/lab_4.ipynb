{
  "nbformat": 4,
  "nbformat_minor": 0,
  "metadata": {
    "colab": {
      "provenance": []
    },
    "kernelspec": {
      "name": "python3",
      "display_name": "Python 3"
    },
    "language_info": {
      "name": "python"
    }
  },
  "cells": [
    {
      "cell_type": "markdown",
      "source": [
        "# Задание 4\n",
        "Пан Анатолий Эдуардович\n",
        "\n",
        "группа 932209\n",
        "\n",
        "Вариант 2. Регулярные языки.\n",
        "\n",
        "Разработать программу, которая по данному регулярному выражению строит конечный\n",
        "автомат, распознающий соответствующий регулярный язык, и осуществляет проверку\n",
        "строк на принадлежность этому языку. Для упрощения можно ввести ограничения на\n",
        "вложенность скобок."
      ],
      "metadata": {
        "id": "cuhOJZeNVzwd"
      }
    },
    {
      "cell_type": "code",
      "source": [
        "class RegexMatcher(object):\n",
        "    def isMatch(self, input_str: str, pattern: str):\n",
        "        \"\"\"\n",
        "        :type input_str: str\n",
        "        :type pattern: str\n",
        "        :rtype: bool\n",
        "        \"\"\"\n",
        "\n",
        "        # Цикл для построения NDFSA (недетерминированный конечный автомат с ε-переходами)\n",
        "        start_state = NDFSAState()\n",
        "        current_state = start_state\n",
        "        i = 0\n",
        "        while i < len(pattern):\n",
        "            char_pattern = pattern[i]\n",
        "            next_state = NDFSAState()\n",
        "\n",
        "            # Если kleene_star, добавляем переход (current_state, char_pattern) -> current_state,\n",
        "            # и добавляем next_state в epsilons текущего состояния. Это означает, что\n",
        "            # мы можем потреблять любое количество символов char_pattern и оставаться в текущем состоянии,\n",
        "            # либо перейти к следующему состоянию, не используя входные данные\n",
        "            # (что является определением *)\n",
        "            # В противном случае добавляем переход от (current_state, char_pattern) -> next_state\n",
        "            kleene_star = i < len(pattern) - 1 and pattern[i + 1] == '*'\n",
        "            if char_pattern == '.':\n",
        "                for j in range(26):\n",
        "                    char = chr(ord('a') + j)\n",
        "                    current_state.transitions[char] = current_state if kleene_star else next_state\n",
        "            else:\n",
        "                current_state.transitions[char_pattern] = current_state if kleene_star else next_state\n",
        "            if kleene_star:\n",
        "                i += 1\n",
        "                current_state.epsilons.add(next_state)\n",
        "            current_state = next_state\n",
        "            i += 1\n",
        "\n",
        "        # Финальное состояние по определению является конечным состоянием\n",
        "        accept_state = current_state\n",
        "\n",
        "        # Цикл для симуляции NDFSA на строке input_str\n",
        "        # Согласно определению NDFSA, если любая последовательность переходов приводит к\n",
        "        # конечному состоянию, то строка принимается. Для этой симуляции мы\n",
        "        # сохраняем множество возможных состояний (current_states) после того, как\n",
        "        # n символов будут использованы из input_str. Мы начинаем с начального состояния и его эпсилон-замыкания\n",
        "        # для n = 0. Для любого данного n это множество состояний будет объединением\n",
        "        # эпсилон-замыканий всех состояний, в которые можно перейти из предыдущего множества\n",
        "        # состояний, используя input_str[n]\n",
        "\n",
        "        # Мы принимаем строку только в том случае, если конечное состояние присутствует в\n",
        "        # наших конечных состояниях\n",
        "        current_states = set([start_state]) | start_state.epsilon_closure()\n",
        "        for c in input_str:\n",
        "            next_states = set()\n",
        "            for state in current_states:\n",
        "                if c in state.transitions:\n",
        "                    next_state = state.transitions[c]\n",
        "                    next_states |= set([next_state]) | next_state.epsilon_closure()\n",
        "            current_states = next_states\n",
        "        return accept_state in current_states\n",
        "\n",
        "class NDFSAState(object):\n",
        "    def __init__(self):\n",
        "        \"\"\"\n",
        "        Эпсилон обычно является символом для null символа\n",
        "        Это означает, что для перехожа не используются никакие входные данные\n",
        "        epsilons - это множество состояний, в которые мы можем перейти без необходимости входных данных\n",
        "        \"\"\"\n",
        "        self.epsilons = set()\n",
        "        self.transitions = {}  # char_input -> state\n",
        "\n",
        "    # Этот метод вычисляет множество всех состояний, в которые может перейти это состояние\n",
        "    # без необходимости ввода. Для этого нам нужно рекурсивно посетить все узлы\n",
        "    # в epsilons и накопить все состояния\n",
        "    def epsilon_closure(self):\n",
        "        result = set([self])\n",
        "        for state in self.epsilons:\n",
        "            result |= state.epsilon_closure()\n",
        "        return result"
      ],
      "metadata": {
        "id": "EIeYxP-kP68v"
      },
      "execution_count": null,
      "outputs": []
    },
    {
      "cell_type": "code",
      "source": [
        "solution = RegexMatcher()\n",
        "\n",
        "pattern = \"ab*c\"\n",
        "test_strings = [\"ab\", \"abbbc\", \"ac\", \"abc\"]\n",
        "for string in test_strings:\n",
        "    result = solution.isMatch(string, pattern)\n",
        "    print(f\"For regex pattern: {pattern} and string: {string} result is {result}\")  # Should print True\n"
      ],
      "metadata": {
        "colab": {
          "base_uri": "https://localhost:8080/"
        },
        "id": "A8bJgG_5P9x-",
        "outputId": "c37a124d-7277-46b0-8f0f-271a2131a0b6"
      },
      "execution_count": null,
      "outputs": [
        {
          "output_type": "stream",
          "name": "stdout",
          "text": [
            "For regex pattern: ab*c and string: ab result is False\n",
            "For regex pattern: ab*c and string: abbbc result is True\n",
            "For regex pattern: ab*c and string: ac result is True\n",
            "For regex pattern: ab*c and string: abc result is True\n"
          ]
        }
      ]
    },
    {
      "cell_type": "code",
      "source": [],
      "metadata": {
        "id": "_NcRwVwGWAnd"
      },
      "execution_count": null,
      "outputs": []
    }
  ]
}