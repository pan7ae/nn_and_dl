{
 "cells": [
  {
   "cell_type": "code",
   "execution_count": 1,
   "id": "d25bbb90-124d-4209-921e-25b08e7d4b55",
   "metadata": {},
   "outputs": [],
   "source": [
    "import requests\n",
    "from bs4 import BeautifulSoup"
   ]
  },
  {
   "cell_type": "code",
   "execution_count": 2,
   "id": "e9dd404c-edb3-4ad0-8fd5-68fc855c3c71",
   "metadata": {},
   "outputs": [],
   "source": [
    "url = \"https://www.culture.ru/literature/poems/author-marina-cvetaeva\""
   ]
  },
  {
   "cell_type": "code",
   "execution_count": 3,
   "id": "5e2b1c4f-92b3-4abc-bd1b-84c4f957ab6b",
   "metadata": {},
   "outputs": [
    {
     "data": {
      "text/plain": [
       "<Response [403]>"
      ]
     },
     "execution_count": 3,
     "metadata": {},
     "output_type": "execute_result"
    }
   ],
   "source": [
    "# Отправляем GET-запрос к странице\n",
    "response = requests.get(url)\n",
    "response"
   ]
  },
  {
   "cell_type": "code",
   "execution_count": null,
   "id": "e68ec822-255d-4a1c-9b83-42dbb8ddff13",
   "metadata": {},
   "outputs": [],
   "source": []
  }
 ],
 "metadata": {
  "kernelspec": {
   "display_name": "Python 3 (ipykernel)",
   "language": "python",
   "name": "python3"
  },
  "language_info": {
   "codemirror_mode": {
    "name": "ipython",
    "version": 3
   },
   "file_extension": ".py",
   "mimetype": "text/x-python",
   "name": "python",
   "nbconvert_exporter": "python",
   "pygments_lexer": "ipython3",
   "version": "3.11.4"
  }
 },
 "nbformat": 4,
 "nbformat_minor": 5
}
